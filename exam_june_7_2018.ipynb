{
 "cells": [
  {
   "cell_type": "markdown",
   "metadata": {},
   "source": [
    "Before you turn this problem in, make sure everything runs as expected. First, **restart the kernel** (in the menubar, select Kernel$\\rightarrow$Restart) and then **run all cells** (in the menubar, select Cell$\\rightarrow$Run All).\n",
    "\n",
    "Make sure you fill in any place that says `YOUR CODE HERE` or \"YOUR ANSWER HERE\", as well as your name and collaborators below:"
   ]
  },
  {
   "cell_type": "code",
   "execution_count": 102,
   "metadata": {},
   "outputs": [],
   "source": [
    "NAME = \"Coen van der Wielen, #2014241#\"\n",
    "COLLABORATORS = \"\""
   ]
  },
  {
   "cell_type": "markdown",
   "metadata": {},
   "source": [
    "---"
   ]
  },
  {
   "cell_type": "markdown",
   "metadata": {},
   "source": [
    "Fill in the cell above to provide us with your name and student number, like\n",
    "\n",
    "NAME = \"Adam Smith, #student number#\"\n",
    "\n",
    "where you replace \"#student number#\" with your ... (very good!)\n",
    "\n",
    "and if you are doing this with someone else (not more than one other person):\n",
    "\n",
    "COLLABORATORS = \"Karl Marx, #student number#\""
   ]
  },
  {
   "cell_type": "markdown",
   "metadata": {
    "deletable": false,
    "editable": false,
    "nbgrader": {
     "checksum": "a7ae5c69becf064d614c6c38935eca51",
     "grade": false,
     "grade_id": "cell-895e9a7b94992ec9",
     "locked": true,
     "schema_version": 1,
     "solution": false
    }
   },
   "source": [
    "# exam June 7th, 2018\n"
   ]
  },
  {
   "cell_type": "markdown",
   "metadata": {
    "deletable": false,
    "editable": false,
    "nbgrader": {
     "checksum": "bc48d165f54aa364aa34509649fcdef5",
     "grade": false,
     "grade_id": "cell-540987818af25557",
     "locked": true,
     "schema_version": 1,
     "solution": false
    }
   },
   "source": [
    "\n",
    "In the first cell of the notebook, give us your name and student number in the way indicated above. If you do this notebook with --at max.-- one other student, give her/his name and student number as well under \"COLLABORATORS\".\n",
    "\n",
    "Fill in the notebook (see below for code cells and text cells that you need to fill in).\n",
    "\n",
    "If you look at the menus above (File, Edit, View etc.), there is one called \"Cell\". If you click on this, you can change the \"Cell Type\". Choose \"Code\" when you are typing python or R code. Choose \"Markdown\" when you are typing, well, markdown.\n",
    "\n",
    "When you finish the notebook, make sure that you **save it with the output of your code included**. \n",
    "\n",
    "Then put it on github, e.g. by dragging it onto github (see instructions below). \n",
    "\n",
    "Finally, add a link to your README file with the name of this exam: \"Exam June 7, 2018\".\n",
    "\n"
   ]
  },
  {
   "cell_type": "markdown",
   "metadata": {
    "deletable": false,
    "editable": false,
    "nbgrader": {
     "checksum": "6fad9bed312da1b0097e9c520b18e3fb",
     "grade": false,
     "grade_id": "cell-e1cf88cb799f1f43",
     "locked": true,
     "schema_version": 1,
     "solution": false
    }
   },
   "source": [
    "## price effects of mergers\n",
    "\n",
    "We consider a merger in this notebook. \n",
    "\n",
    "First we calculate the equilibrium with three firms, denoted by 1, 2 and 3. Then firms 2 and 3 merge so that we are left with 2 firms; denoted by 1 and 2.\n",
    "\n",
    "We calculate the effects of the merger on the equilibrium price.\n",
    "\n",
    "We start by importing the usual libraries."
   ]
  },
  {
   "cell_type": "code",
   "execution_count": 103,
   "metadata": {
    "deletable": false,
    "editable": false,
    "nbgrader": {
     "checksum": "7bd770ef54db47c3b6c8d0e31f6baef6",
     "grade": false,
     "grade_id": "cell-b895769bf40e183a",
     "locked": true,
     "schema_version": 1,
     "solution": false
    }
   },
   "outputs": [],
   "source": [
    "import matplotlib.pyplot as plt\n",
    "import pandas as pd\n",
    "import numpy as np\n",
    "from scipy import optimize\n",
    "%matplotlib inline"
   ]
  },
  {
   "cell_type": "markdown",
   "metadata": {},
   "source": [
    "The following code helps to calculate the equilibrium for the case with 3 firms. Note that you have seen similar code during the tutorials to calculate the equilibrium with 2 firms.\n",
    "\n",
    "We assume that before the merger each firm has constant marginal costs equal to 0.3. We assume a simple linear (inverse) demand curve of the form $p=1-Q$ where $p$ denotes price and $Q$ total output on the market. Total output equals the sum of each firm's output: $Q= q_1 + q_2+q_3$."
   ]
  },
  {
   "cell_type": "code",
   "execution_count": 104,
   "metadata": {
    "deletable": false,
    "editable": false,
    "nbgrader": {
     "checksum": "3e30f7ac9d9155ef089b8ca56a0c0436",
     "grade": false,
     "grade_id": "cell-f97a25efed556fd2",
     "locked": true,
     "schema_version": 1,
     "solution": false
    }
   },
   "outputs": [],
   "source": [
    "c0 = 0.3\n",
    "vector_c = [c0]*3\n",
    "\n",
    "def p(Q):\n",
    "    return 1 - Q\n",
    "\n",
    "def costs(q,c):\n",
    "    return c*q\n",
    "\n",
    "def profits(q,Q_other,c):\n",
    "    return p(q+Q_other)*q-costs(q,c)\n",
    "\n",
    "def reaction(Q_other,c):\n",
    "    q1 =  optimize.fminbound(lambda x: -profits(x,Q_other,c),0,1,full_output=1)\n",
    "    return q1[0]\n",
    "\n",
    "def fixed_point_three_firms(vector_q,vector_c):\n",
    "    return [vector_q[0]-reaction(vector_q[1]+vector_q[2],vector_c[0]),\n",
    "            vector_q[1]-reaction(vector_q[0]+vector_q[2],vector_c[1]),\n",
    "            vector_q[2]-reaction(vector_q[0]+vector_q[1],vector_c[2])]\n",
    "\n"
   ]
  },
  {
   "cell_type": "markdown",
   "metadata": {
    "deletable": false,
    "editable": false,
    "nbgrader": {
     "checksum": "f6ea3b2416aca7293a5450c45865f242",
     "grade": false,
     "grade_id": "cell-83284c4090d6de8c",
     "locked": true,
     "schema_version": 1,
     "solution": false
    }
   },
   "source": [
    "#### a) [0.5 points] Show that total equilibrium output equals  0.525. Derive the equilibrium price and Herfindahl index; denote these by `P0` and `H0` resp."
   ]
  },
  {
   "cell_type": "code",
   "execution_count": 105,
   "metadata": {
    "deletable": false,
    "nbgrader": {
     "checksum": "a06d73c35395adb00480733b458cb4a5",
     "grade": true,
     "grade_id": "cell-3b8ee172d9950128",
     "locked": false,
     "points": 0.5,
     "schema_version": 1,
     "solution": true
    }
   },
   "outputs": [
    {
     "data": {
      "text/plain": [
       "0.525"
      ]
     },
     "execution_count": 105,
     "metadata": {},
     "output_type": "execute_result"
    }
   ],
   "source": [
    "initial_guess = [0,0,0]\n",
    "\n",
    "sum(optimize.fsolve(lambda q: fixed_point_three_firms(q, [0.3,0.3,0.3]), initial_guess))\n",
    "\n",
    "\n"
   ]
  },
  {
   "cell_type": "code",
   "execution_count": 106,
   "metadata": {},
   "outputs": [
    {
     "name": "stdout",
     "output_type": "stream",
     "text": [
      "0.3333333333333333\n"
     ]
    }
   ],
   "source": [
    "def Herfindahl_index(q_1, q_2, q_3):\n",
    "    return (q_1/q)**2 + (q_2/q)**2 + (q_3/q)**2\n",
    "\n",
    "q_1 = 0.175 \n",
    "q_2 = 0.175\n",
    "q_3 = 0.175\n",
    "q = 0.525\n",
    "\n",
    "H0 = Herfindahl_index(q_1, q_2, q_3)\n",
    "print(H0)"
   ]
  },
  {
   "cell_type": "code",
   "execution_count": 107,
   "metadata": {},
   "outputs": [
    {
     "name": "stdout",
     "output_type": "stream",
     "text": [
      "0.475\n"
     ]
    }
   ],
   "source": [
    "P0 = p(0.525)\n",
    "\n",
    "\n",
    "print(P0)"
   ]
  },
  {
   "cell_type": "markdown",
   "metadata": {
    "deletable": false,
    "editable": false,
    "nbgrader": {
     "checksum": "87b3b3e0e2d645c280e279312e489dc4",
     "grade": false,
     "grade_id": "cell-4b33762aa4a601fe",
     "locked": true,
     "schema_version": 1,
     "solution": false
    }
   },
   "source": [
    "#### b) [0.5 point] Define a function `fixed_point_two_firms` with the same structure as the function `fixed_point_three_firms` above, except that it derives the equilibrium output levels for a duopoly (two firms). Test this function by showing that each of the two firms produces 0.3333 in case both firms have zero costs."
   ]
  },
  {
   "cell_type": "code",
   "execution_count": 108,
   "metadata": {
    "deletable": false,
    "nbgrader": {
     "checksum": "024a1519155d681b57c85292df535a65",
     "grade": true,
     "grade_id": "cell-5ee215676b91f504",
     "locked": false,
     "points": 0.5,
     "schema_version": 1,
     "solution": true
    }
   },
   "outputs": [
    {
     "data": {
      "text/plain": [
       "array([0.33333333, 0.03333333])"
      ]
     },
     "execution_count": 108,
     "metadata": {},
     "output_type": "execute_result"
    }
   ],
   "source": [
    "def fixed_point_two_firms(vector_q, vector_c):\n",
    "     return [vector_q[0]-reaction(vector_q[1],vector_c[0]),\n",
    "            vector_q[1]-reaction(vector_q[0],vector_c[1])]\n",
    "\n",
    "initial_guess = [0,0]\n",
    "\n",
    "optimize.fsolve(lambda q: fixed_point_two_firms(q,[0.3,0.6]), initial_guess)\n",
    "    "
   ]
  },
  {
   "cell_type": "markdown",
   "metadata": {
    "deletable": false,
    "editable": false,
    "nbgrader": {
     "checksum": "5291fc8716e367572fde17ebe5844d2f",
     "grade": false,
     "grade_id": "cell-c2fada02efd7b197",
     "locked": true,
     "schema_version": 1,
     "solution": false
    }
   },
   "source": [
    "The Dutch competition authority, ACM, is asked to evaluate the effects of a merger between firms 2 and 3. Firms 2 and 3 claim that by merging they can reduce their constant marginal costs. But it is not clear by how much they will reduce their costs.\n",
    "\n",
    "The ACM assumes that the marginal cost level of the merged firm is uniformly distributed between 0 and the current marginal cost level `c0`. The merger will not affect the marginal cost level of firm 1 who does not merge. Firm 1's cost level remains `c0`.\n",
    "\n",
    "The next cell generates a vector of cost levels for the merged firm, denoted `c_after_merger`. Evaluate \"c_after_merger\" in a separate cell if you do not understand the command that defines it.\n",
    "\n",
    "Then it calculates the equilibrium output levels for (the non-merging) firm 1 and (the merged) firm 2.\n",
    "\n",
    "Note that you need to specify `initial_guess`.\n"
   ]
  },
  {
   "cell_type": "code",
   "execution_count": 109,
   "metadata": {
    "deletable": false,
    "editable": false,
    "nbgrader": {
     "checksum": "11299317cd53e31de9900700999b0324",
     "grade": false,
     "grade_id": "cell-ce91ab3e3225c57d",
     "locked": true,
     "schema_version": 1,
     "solution": false
    }
   },
   "outputs": [],
   "source": [
    "c_after_merger = np.random.uniform(0,c0,size = 100)\n",
    "\n",
    "q1_after_merger = [optimize.fsolve(lambda q: fixed_point_two_firms(q,[c0,c]), initial_guess)[0] for c in c_after_merger]\n",
    "q2_after_merger = [optimize.fsolve(lambda q: fixed_point_two_firms(q,[c0,c]), initial_guess)[1] for c in c_after_merger]\n",
    "\n",
    "\n"
   ]
  },
  {
   "cell_type": "code",
   "execution_count": 110,
   "metadata": {},
   "outputs": [
    {
     "name": "stdout",
     "output_type": "stream",
     "text": [
      "[0.01728821 0.02605314 0.08541661 0.22247653 0.15286088 0.22019098\n",
      " 0.12494454 0.2513726  0.27109126 0.27615956 0.23091889 0.28963225\n",
      " 0.28727578 0.19754275 0.02041721 0.01078972 0.29438915 0.1608518\n",
      " 0.03169873 0.19047794 0.05944272 0.0114882  0.08344015 0.19063234\n",
      " 0.10893181 0.28617395 0.05044706 0.00052942 0.23626325 0.24024092\n",
      " 0.22272944 0.19075639 0.05282479 0.00517924 0.21826114 0.0866322\n",
      " 0.03204674 0.27076208 0.16039188 0.04111968 0.2538655  0.24359923\n",
      " 0.1862583  0.27176114 0.15509452 0.25979039 0.25133078 0.25003497\n",
      " 0.14792038 0.2716623  0.26943816 0.19434645 0.17508458 0.15360551\n",
      " 0.1122695  0.03619528 0.02367354 0.15044598 0.06949635 0.03004442\n",
      " 0.1444832  0.15279993 0.00446399 0.2576754  0.13394191 0.16256511\n",
      " 0.05581985 0.25489607 0.27727786 0.08816161 0.01981745 0.23950675\n",
      " 0.19318381 0.12998774 0.02647636 0.20182827 0.15889272 0.17128954\n",
      " 0.02700949 0.05400037 0.00523541 0.28372798 0.08912426 0.2371322\n",
      " 0.04004076 0.13637718 0.26813295 0.19401263 0.23003547 0.11848069\n",
      " 0.19415277 0.17484721 0.08389367 0.04597981 0.18684152 0.06293807\n",
      " 0.12503404 0.03149739 0.29807402 0.04486064]\n"
     ]
    }
   ],
   "source": [
    "print(c_after_merger)\n"
   ]
  },
  {
   "cell_type": "markdown",
   "metadata": {
    "deletable": false,
    "editable": false,
    "nbgrader": {
     "checksum": "2b518306d6ff20ee42d0bc3085333095",
     "grade": false,
     "grade_id": "cell-0acc18b4f07a09f4",
     "locked": true,
     "schema_version": 1,
     "solution": false
    }
   },
   "source": [
    "#### c) [0.5 points] Create a dataframe called `df_after_merger` with three columns: `c_merged_firm`, `output_non_merging_firm`, `output_merged_firm` containing resp. the cost level of the merged firm, the output level of firm 1 and the output level of firm 2."
   ]
  },
  {
   "cell_type": "code",
   "execution_count": 111,
   "metadata": {
    "deletable": false,
    "nbgrader": {
     "checksum": "f4fc6a3bdef91fa3f656ccd3290c9f54",
     "grade": true,
     "grade_id": "cell-f3eacda828774f2d",
     "locked": false,
     "points": 0.5,
     "schema_version": 1,
     "solution": true
    }
   },
   "outputs": [
    {
     "data": {
      "text/html": [
       "<div>\n",
       "<style scoped>\n",
       "    .dataframe tbody tr th:only-of-type {\n",
       "        vertical-align: middle;\n",
       "    }\n",
       "\n",
       "    .dataframe tbody tr th {\n",
       "        vertical-align: top;\n",
       "    }\n",
       "\n",
       "    .dataframe thead th {\n",
       "        text-align: right;\n",
       "    }\n",
       "</style>\n",
       "<table border=\"1\" class=\"dataframe\">\n",
       "  <thead>\n",
       "    <tr style=\"text-align: right;\">\n",
       "      <th></th>\n",
       "      <th>c_merged_firm</th>\n",
       "      <th>output_non_merging_firm</th>\n",
       "      <th>output_merged_firm</th>\n",
       "    </tr>\n",
       "  </thead>\n",
       "  <tbody>\n",
       "    <tr>\n",
       "      <th>0</th>\n",
       "      <td>0.017288</td>\n",
       "      <td>[0.13909606834407773, 0.14201771258180246, 0.1...</td>\n",
       "      <td>[0.42180786331184483, 0.4159645748363948, 0.37...</td>\n",
       "    </tr>\n",
       "    <tr>\n",
       "      <th>1</th>\n",
       "      <td>0.026053</td>\n",
       "      <td>[0.13909606834407773, 0.14201771258180246, 0.1...</td>\n",
       "      <td>[0.42180786331184483, 0.4159645748363948, 0.37...</td>\n",
       "    </tr>\n",
       "    <tr>\n",
       "      <th>2</th>\n",
       "      <td>0.085417</td>\n",
       "      <td>[0.13909606834407773, 0.14201771258180246, 0.1...</td>\n",
       "      <td>[0.42180786331184483, 0.4159645748363948, 0.37...</td>\n",
       "    </tr>\n",
       "    <tr>\n",
       "      <th>3</th>\n",
       "      <td>0.222477</td>\n",
       "      <td>[0.13909606834407773, 0.14201771258180246, 0.1...</td>\n",
       "      <td>[0.42180786331184483, 0.4159645748363948, 0.37...</td>\n",
       "    </tr>\n",
       "    <tr>\n",
       "      <th>4</th>\n",
       "      <td>0.152861</td>\n",
       "      <td>[0.13909606834407773, 0.14201771258180246, 0.1...</td>\n",
       "      <td>[0.42180786331184483, 0.4159645748363948, 0.37...</td>\n",
       "    </tr>\n",
       "  </tbody>\n",
       "</table>\n",
       "</div>"
      ],
      "text/plain": [
       "   c_merged_firm                            output_non_merging_firm  \\\n",
       "0       0.017288  [0.13909606834407773, 0.14201771258180246, 0.1...   \n",
       "1       0.026053  [0.13909606834407773, 0.14201771258180246, 0.1...   \n",
       "2       0.085417  [0.13909606834407773, 0.14201771258180246, 0.1...   \n",
       "3       0.222477  [0.13909606834407773, 0.14201771258180246, 0.1...   \n",
       "4       0.152861  [0.13909606834407773, 0.14201771258180246, 0.1...   \n",
       "\n",
       "                                  output_merged_firm  \n",
       "0  [0.42180786331184483, 0.4159645748363948, 0.37...  \n",
       "1  [0.42180786331184483, 0.4159645748363948, 0.37...  \n",
       "2  [0.42180786331184483, 0.4159645748363948, 0.37...  \n",
       "3  [0.42180786331184483, 0.4159645748363948, 0.37...  \n",
       "4  [0.42180786331184483, 0.4159645748363948, 0.37...  "
      ]
     },
     "execution_count": 111,
     "metadata": {},
     "output_type": "execute_result"
    }
   ],
   "source": [
    "initial_guess = [0,0]\n",
    "\n",
    "columns = [\"c_merged_firm\", \"output_non_merging_firm\", \"output_merged_firm\"]\n",
    "df_after_merger = pd.DataFrame(columns=columns)\n",
    "\n",
    "\n",
    "counter = 0 \n",
    "for i in range(99):\n",
    "    c_merged_firm = c_after_merger[counter]\n",
    "    df_after_merger.loc[counter] = [c_merged_firm, q1_after_merger, q2_after_merger]\n",
    "    counter = counter + 1\n",
    "\n",
    "df_after_merger.head()"
   ]
  },
  {
   "cell_type": "markdown",
   "metadata": {
    "deletable": false,
    "editable": false,
    "nbgrader": {
     "checksum": "a5bf4171960844da9c57375d83b6eedf",
     "grade": false,
     "grade_id": "cell-7ad058be42e19df8",
     "locked": true,
     "schema_version": 1,
     "solution": false
    }
   },
   "source": [
    "#### d) [0.5 points] Add three columns to the dataframe with resp. total equilibrium output on the market, `Q`, equilibrium price, `P` and the Herfindahl index, `H`."
   ]
  },
  {
   "cell_type": "code",
   "execution_count": 112,
   "metadata": {
    "deletable": false,
    "nbgrader": {
     "checksum": "ab6179623b39a6ae634abea45326e4ab",
     "grade": true,
     "grade_id": "cell-9c39b11747803ca1",
     "locked": false,
     "points": 0.5,
     "schema_version": 1,
     "solution": true
    }
   },
   "outputs": [
    {
     "ename": "SyntaxError",
     "evalue": "invalid syntax (<ipython-input-112-835a762c417c>, line 5)",
     "output_type": "error",
     "traceback": [
      "\u001b[1;36m  File \u001b[1;32m\"<ipython-input-112-835a762c417c>\"\u001b[1;36m, line \u001b[1;32m5\u001b[0m\n\u001b[1;33m    df_after_merger.head\u001b[0m\n\u001b[1;37m                  ^\u001b[0m\n\u001b[1;31mSyntaxError\u001b[0m\u001b[1;31m:\u001b[0m invalid syntax\n"
     ]
    }
   ],
   "source": [
    "df_after_merger['Q'] = df_after_merger['output_non_merging_firm'] + df_after_merger['output_merged_firm']\n",
    "df_after_merger['P'] = 1 - df_after_merger['Q']\n",
    "df_after_merger['H'] = (df_after_merger['output_non_merging_firm'] / df_after_merger['Q']**2 + (df_after_merger['output_merged_firm'] / df_after_merger['Q']**2)\n",
    "\n",
    "df_after_merger.head"
   ]
  },
  {
   "cell_type": "markdown",
   "metadata": {},
   "source": [
    "#### e) [0.5 points] Make a histogram of the equilibrium price `P` after the merger. Also indicate in the histogram the equilibrium price before the merger `P0`. Label the horizontal axis with $P$.\n",
    "\n",
    "[hint: you may want to use matplotlib's `hist`, `vlines` and `legend` to make this graph (e.g use google to find these functions); but feel free to use something else]"
   ]
  },
  {
   "cell_type": "code",
   "execution_count": 113,
   "metadata": {
    "deletable": false,
    "nbgrader": {
     "checksum": "b103cd98545261b20f937f4b9db67f68",
     "grade": true,
     "grade_id": "cell-f9193bf8e71f1a9a",
     "locked": false,
     "points": 0.5,
     "schema_version": 1,
     "solution": true
    }
   },
   "outputs": [
    {
     "ename": "KeyError",
     "evalue": "'P'",
     "output_type": "error",
     "traceback": [
      "\u001b[1;31m---------------------------------------------------------------------------\u001b[0m",
      "\u001b[1;31mKeyError\u001b[0m                                  Traceback (most recent call last)",
      "\u001b[1;32m~\\Anaconda3\\lib\\site-packages\\pandas\\core\\indexes\\base.py\u001b[0m in \u001b[0;36mget_loc\u001b[1;34m(self, key, method, tolerance)\u001b[0m\n\u001b[0;32m   2524\u001b[0m             \u001b[1;32mtry\u001b[0m\u001b[1;33m:\u001b[0m\u001b[1;33m\u001b[0m\u001b[0m\n\u001b[1;32m-> 2525\u001b[1;33m                 \u001b[1;32mreturn\u001b[0m \u001b[0mself\u001b[0m\u001b[1;33m.\u001b[0m\u001b[0m_engine\u001b[0m\u001b[1;33m.\u001b[0m\u001b[0mget_loc\u001b[0m\u001b[1;33m(\u001b[0m\u001b[0mkey\u001b[0m\u001b[1;33m)\u001b[0m\u001b[1;33m\u001b[0m\u001b[0m\n\u001b[0m\u001b[0;32m   2526\u001b[0m             \u001b[1;32mexcept\u001b[0m \u001b[0mKeyError\u001b[0m\u001b[1;33m:\u001b[0m\u001b[1;33m\u001b[0m\u001b[0m\n",
      "\u001b[1;32mpandas/_libs/index.pyx\u001b[0m in \u001b[0;36mpandas._libs.index.IndexEngine.get_loc\u001b[1;34m()\u001b[0m\n",
      "\u001b[1;32mpandas/_libs/index.pyx\u001b[0m in \u001b[0;36mpandas._libs.index.IndexEngine.get_loc\u001b[1;34m()\u001b[0m\n",
      "\u001b[1;32mpandas/_libs/hashtable_class_helper.pxi\u001b[0m in \u001b[0;36mpandas._libs.hashtable.PyObjectHashTable.get_item\u001b[1;34m()\u001b[0m\n",
      "\u001b[1;32mpandas/_libs/hashtable_class_helper.pxi\u001b[0m in \u001b[0;36mpandas._libs.hashtable.PyObjectHashTable.get_item\u001b[1;34m()\u001b[0m\n",
      "\u001b[1;31mKeyError\u001b[0m: 'P'",
      "\nDuring handling of the above exception, another exception occurred:\n",
      "\u001b[1;31mKeyError\u001b[0m                                  Traceback (most recent call last)",
      "\u001b[1;32m<ipython-input-113-a3d12211f235>\u001b[0m in \u001b[0;36m<module>\u001b[1;34m()\u001b[0m\n\u001b[1;32m----> 1\u001b[1;33m \u001b[0mplt\u001b[0m\u001b[1;33m.\u001b[0m\u001b[0mhist\u001b[0m\u001b[1;33m(\u001b[0m\u001b[0mdf_after_merger\u001b[0m\u001b[1;33m[\u001b[0m\u001b[1;34m'P'\u001b[0m\u001b[1;33m]\u001b[0m\u001b[1;33m,\u001b[0m \u001b[0mbins\u001b[0m\u001b[1;33m=\u001b[0m\u001b[1;36m15\u001b[0m\u001b[1;33m,\u001b[0m \u001b[0mcolor\u001b[0m\u001b[1;33m=\u001b[0m\u001b[1;34m'red'\u001b[0m\u001b[1;33m)\u001b[0m\u001b[1;33m\u001b[0m\u001b[0m\n\u001b[0m\u001b[0;32m      2\u001b[0m \u001b[0mplt\u001b[0m\u001b[1;33m.\u001b[0m\u001b[0mhist\u001b[0m\u001b[1;33m(\u001b[0m\u001b[0mP0\u001b[0m\u001b[1;33m,\u001b[0m \u001b[0mrange\u001b[0m\u001b[1;33m=\u001b[0m\u001b[1;33m(\u001b[0m\u001b[1;36m0.43\u001b[0m\u001b[1;33m,\u001b[0m \u001b[1;36m0.53\u001b[0m\u001b[1;33m)\u001b[0m\u001b[1;33m)\u001b[0m\u001b[1;33m\u001b[0m\u001b[0m\n\u001b[0;32m      3\u001b[0m \u001b[0mplt\u001b[0m\u001b[1;33m.\u001b[0m\u001b[0mtitle\u001b[0m\u001b[1;33m(\u001b[0m\u001b[1;34m'Equilibrium price'\u001b[0m\u001b[1;33m)\u001b[0m\u001b[1;33m\u001b[0m\u001b[0m\n\u001b[0;32m      4\u001b[0m \u001b[0mplt\u001b[0m\u001b[1;33m.\u001b[0m\u001b[0mxlabel\u001b[0m\u001b[1;33m(\u001b[0m\u001b[1;34m'P'\u001b[0m\u001b[1;33m)\u001b[0m\u001b[1;33m\u001b[0m\u001b[0m\n\u001b[0;32m      5\u001b[0m \u001b[0mplt\u001b[0m\u001b[1;33m.\u001b[0m\u001b[0mylabel\u001b[0m\u001b[1;33m(\u001b[0m\u001b[1;34m'Frequency'\u001b[0m\u001b[1;33m)\u001b[0m\u001b[1;33m\u001b[0m\u001b[0m\n",
      "\u001b[1;32m~\\Anaconda3\\lib\\site-packages\\pandas\\core\\frame.py\u001b[0m in \u001b[0;36m__getitem__\u001b[1;34m(self, key)\u001b[0m\n\u001b[0;32m   2137\u001b[0m             \u001b[1;32mreturn\u001b[0m \u001b[0mself\u001b[0m\u001b[1;33m.\u001b[0m\u001b[0m_getitem_multilevel\u001b[0m\u001b[1;33m(\u001b[0m\u001b[0mkey\u001b[0m\u001b[1;33m)\u001b[0m\u001b[1;33m\u001b[0m\u001b[0m\n\u001b[0;32m   2138\u001b[0m         \u001b[1;32melse\u001b[0m\u001b[1;33m:\u001b[0m\u001b[1;33m\u001b[0m\u001b[0m\n\u001b[1;32m-> 2139\u001b[1;33m             \u001b[1;32mreturn\u001b[0m \u001b[0mself\u001b[0m\u001b[1;33m.\u001b[0m\u001b[0m_getitem_column\u001b[0m\u001b[1;33m(\u001b[0m\u001b[0mkey\u001b[0m\u001b[1;33m)\u001b[0m\u001b[1;33m\u001b[0m\u001b[0m\n\u001b[0m\u001b[0;32m   2140\u001b[0m \u001b[1;33m\u001b[0m\u001b[0m\n\u001b[0;32m   2141\u001b[0m     \u001b[1;32mdef\u001b[0m \u001b[0m_getitem_column\u001b[0m\u001b[1;33m(\u001b[0m\u001b[0mself\u001b[0m\u001b[1;33m,\u001b[0m \u001b[0mkey\u001b[0m\u001b[1;33m)\u001b[0m\u001b[1;33m:\u001b[0m\u001b[1;33m\u001b[0m\u001b[0m\n",
      "\u001b[1;32m~\\Anaconda3\\lib\\site-packages\\pandas\\core\\frame.py\u001b[0m in \u001b[0;36m_getitem_column\u001b[1;34m(self, key)\u001b[0m\n\u001b[0;32m   2144\u001b[0m         \u001b[1;31m# get column\u001b[0m\u001b[1;33m\u001b[0m\u001b[1;33m\u001b[0m\u001b[0m\n\u001b[0;32m   2145\u001b[0m         \u001b[1;32mif\u001b[0m \u001b[0mself\u001b[0m\u001b[1;33m.\u001b[0m\u001b[0mcolumns\u001b[0m\u001b[1;33m.\u001b[0m\u001b[0mis_unique\u001b[0m\u001b[1;33m:\u001b[0m\u001b[1;33m\u001b[0m\u001b[0m\n\u001b[1;32m-> 2146\u001b[1;33m             \u001b[1;32mreturn\u001b[0m \u001b[0mself\u001b[0m\u001b[1;33m.\u001b[0m\u001b[0m_get_item_cache\u001b[0m\u001b[1;33m(\u001b[0m\u001b[0mkey\u001b[0m\u001b[1;33m)\u001b[0m\u001b[1;33m\u001b[0m\u001b[0m\n\u001b[0m\u001b[0;32m   2147\u001b[0m \u001b[1;33m\u001b[0m\u001b[0m\n\u001b[0;32m   2148\u001b[0m         \u001b[1;31m# duplicate columns & possible reduce dimensionality\u001b[0m\u001b[1;33m\u001b[0m\u001b[1;33m\u001b[0m\u001b[0m\n",
      "\u001b[1;32m~\\Anaconda3\\lib\\site-packages\\pandas\\core\\generic.py\u001b[0m in \u001b[0;36m_get_item_cache\u001b[1;34m(self, item)\u001b[0m\n\u001b[0;32m   1840\u001b[0m         \u001b[0mres\u001b[0m \u001b[1;33m=\u001b[0m \u001b[0mcache\u001b[0m\u001b[1;33m.\u001b[0m\u001b[0mget\u001b[0m\u001b[1;33m(\u001b[0m\u001b[0mitem\u001b[0m\u001b[1;33m)\u001b[0m\u001b[1;33m\u001b[0m\u001b[0m\n\u001b[0;32m   1841\u001b[0m         \u001b[1;32mif\u001b[0m \u001b[0mres\u001b[0m \u001b[1;32mis\u001b[0m \u001b[1;32mNone\u001b[0m\u001b[1;33m:\u001b[0m\u001b[1;33m\u001b[0m\u001b[0m\n\u001b[1;32m-> 1842\u001b[1;33m             \u001b[0mvalues\u001b[0m \u001b[1;33m=\u001b[0m \u001b[0mself\u001b[0m\u001b[1;33m.\u001b[0m\u001b[0m_data\u001b[0m\u001b[1;33m.\u001b[0m\u001b[0mget\u001b[0m\u001b[1;33m(\u001b[0m\u001b[0mitem\u001b[0m\u001b[1;33m)\u001b[0m\u001b[1;33m\u001b[0m\u001b[0m\n\u001b[0m\u001b[0;32m   1843\u001b[0m             \u001b[0mres\u001b[0m \u001b[1;33m=\u001b[0m \u001b[0mself\u001b[0m\u001b[1;33m.\u001b[0m\u001b[0m_box_item_values\u001b[0m\u001b[1;33m(\u001b[0m\u001b[0mitem\u001b[0m\u001b[1;33m,\u001b[0m \u001b[0mvalues\u001b[0m\u001b[1;33m)\u001b[0m\u001b[1;33m\u001b[0m\u001b[0m\n\u001b[0;32m   1844\u001b[0m             \u001b[0mcache\u001b[0m\u001b[1;33m[\u001b[0m\u001b[0mitem\u001b[0m\u001b[1;33m]\u001b[0m \u001b[1;33m=\u001b[0m \u001b[0mres\u001b[0m\u001b[1;33m\u001b[0m\u001b[0m\n",
      "\u001b[1;32m~\\Anaconda3\\lib\\site-packages\\pandas\\core\\internals.py\u001b[0m in \u001b[0;36mget\u001b[1;34m(self, item, fastpath)\u001b[0m\n\u001b[0;32m   3841\u001b[0m \u001b[1;33m\u001b[0m\u001b[0m\n\u001b[0;32m   3842\u001b[0m             \u001b[1;32mif\u001b[0m \u001b[1;32mnot\u001b[0m \u001b[0misna\u001b[0m\u001b[1;33m(\u001b[0m\u001b[0mitem\u001b[0m\u001b[1;33m)\u001b[0m\u001b[1;33m:\u001b[0m\u001b[1;33m\u001b[0m\u001b[0m\n\u001b[1;32m-> 3843\u001b[1;33m                 \u001b[0mloc\u001b[0m \u001b[1;33m=\u001b[0m \u001b[0mself\u001b[0m\u001b[1;33m.\u001b[0m\u001b[0mitems\u001b[0m\u001b[1;33m.\u001b[0m\u001b[0mget_loc\u001b[0m\u001b[1;33m(\u001b[0m\u001b[0mitem\u001b[0m\u001b[1;33m)\u001b[0m\u001b[1;33m\u001b[0m\u001b[0m\n\u001b[0m\u001b[0;32m   3844\u001b[0m             \u001b[1;32melse\u001b[0m\u001b[1;33m:\u001b[0m\u001b[1;33m\u001b[0m\u001b[0m\n\u001b[0;32m   3845\u001b[0m                 \u001b[0mindexer\u001b[0m \u001b[1;33m=\u001b[0m \u001b[0mnp\u001b[0m\u001b[1;33m.\u001b[0m\u001b[0marange\u001b[0m\u001b[1;33m(\u001b[0m\u001b[0mlen\u001b[0m\u001b[1;33m(\u001b[0m\u001b[0mself\u001b[0m\u001b[1;33m.\u001b[0m\u001b[0mitems\u001b[0m\u001b[1;33m)\u001b[0m\u001b[1;33m)\u001b[0m\u001b[1;33m[\u001b[0m\u001b[0misna\u001b[0m\u001b[1;33m(\u001b[0m\u001b[0mself\u001b[0m\u001b[1;33m.\u001b[0m\u001b[0mitems\u001b[0m\u001b[1;33m)\u001b[0m\u001b[1;33m]\u001b[0m\u001b[1;33m\u001b[0m\u001b[0m\n",
      "\u001b[1;32m~\\Anaconda3\\lib\\site-packages\\pandas\\core\\indexes\\base.py\u001b[0m in \u001b[0;36mget_loc\u001b[1;34m(self, key, method, tolerance)\u001b[0m\n\u001b[0;32m   2525\u001b[0m                 \u001b[1;32mreturn\u001b[0m \u001b[0mself\u001b[0m\u001b[1;33m.\u001b[0m\u001b[0m_engine\u001b[0m\u001b[1;33m.\u001b[0m\u001b[0mget_loc\u001b[0m\u001b[1;33m(\u001b[0m\u001b[0mkey\u001b[0m\u001b[1;33m)\u001b[0m\u001b[1;33m\u001b[0m\u001b[0m\n\u001b[0;32m   2526\u001b[0m             \u001b[1;32mexcept\u001b[0m \u001b[0mKeyError\u001b[0m\u001b[1;33m:\u001b[0m\u001b[1;33m\u001b[0m\u001b[0m\n\u001b[1;32m-> 2527\u001b[1;33m                 \u001b[1;32mreturn\u001b[0m \u001b[0mself\u001b[0m\u001b[1;33m.\u001b[0m\u001b[0m_engine\u001b[0m\u001b[1;33m.\u001b[0m\u001b[0mget_loc\u001b[0m\u001b[1;33m(\u001b[0m\u001b[0mself\u001b[0m\u001b[1;33m.\u001b[0m\u001b[0m_maybe_cast_indexer\u001b[0m\u001b[1;33m(\u001b[0m\u001b[0mkey\u001b[0m\u001b[1;33m)\u001b[0m\u001b[1;33m)\u001b[0m\u001b[1;33m\u001b[0m\u001b[0m\n\u001b[0m\u001b[0;32m   2528\u001b[0m \u001b[1;33m\u001b[0m\u001b[0m\n\u001b[0;32m   2529\u001b[0m         \u001b[0mindexer\u001b[0m \u001b[1;33m=\u001b[0m \u001b[0mself\u001b[0m\u001b[1;33m.\u001b[0m\u001b[0mget_indexer\u001b[0m\u001b[1;33m(\u001b[0m\u001b[1;33m[\u001b[0m\u001b[0mkey\u001b[0m\u001b[1;33m]\u001b[0m\u001b[1;33m,\u001b[0m \u001b[0mmethod\u001b[0m\u001b[1;33m=\u001b[0m\u001b[0mmethod\u001b[0m\u001b[1;33m,\u001b[0m \u001b[0mtolerance\u001b[0m\u001b[1;33m=\u001b[0m\u001b[0mtolerance\u001b[0m\u001b[1;33m)\u001b[0m\u001b[1;33m\u001b[0m\u001b[0m\n",
      "\u001b[1;32mpandas/_libs/index.pyx\u001b[0m in \u001b[0;36mpandas._libs.index.IndexEngine.get_loc\u001b[1;34m()\u001b[0m\n",
      "\u001b[1;32mpandas/_libs/index.pyx\u001b[0m in \u001b[0;36mpandas._libs.index.IndexEngine.get_loc\u001b[1;34m()\u001b[0m\n",
      "\u001b[1;32mpandas/_libs/hashtable_class_helper.pxi\u001b[0m in \u001b[0;36mpandas._libs.hashtable.PyObjectHashTable.get_item\u001b[1;34m()\u001b[0m\n",
      "\u001b[1;32mpandas/_libs/hashtable_class_helper.pxi\u001b[0m in \u001b[0;36mpandas._libs.hashtable.PyObjectHashTable.get_item\u001b[1;34m()\u001b[0m\n",
      "\u001b[1;31mKeyError\u001b[0m: 'P'"
     ]
    }
   ],
   "source": [
    "plt.hist(df_after_merger['P'], bins=15, color='red')\n",
    "plt.hist(P0, range=(0.43, 0.53))\n",
    "plt.title('Equilibrium price')\n",
    "plt.xlabel('P')\n",
    "plt.ylabel('Frequency')\n",
    "plt.show"
   ]
  },
  {
   "cell_type": "markdown",
   "metadata": {},
   "source": [
    "#### f) [0.5 points] Explain why sometimes the equilibrium price after the merger exceeds the equilibrium price before the merger and sometimes it is lower than the pre-merger price. [hint: there is a trade off between two effects, depending on which effect dominates, equilibrium price increases or decreases after the merger]"
   ]
  },
  {
   "cell_type": "markdown",
   "metadata": {
    "deletable": false,
    "nbgrader": {
     "checksum": "dd9fc721b7cf7f66587e93cbfb758034",
     "grade": true,
     "grade_id": "cell-7a1f367cd2854156",
     "locked": false,
     "points": 0.5,
     "schema_version": 1,
     "solution": true
    }
   },
   "source": [
    "A merger reduces competition, and may help ﬁrms to raise prices, in a competition the equillibrium price decreases in the number of firms. A merger also gives the company economies of scale, therefore they are able to buy their selling product at a lower cost, which is another reason the equilibrium price drops after a merger.\n",
    "\n",
    "Another possibility is that the company that just had a merger are now dominating the total market and, because of their superb market position, put their prices a lot higher than the equilibrium price was.\n"
   ]
  },
  {
   "cell_type": "markdown",
   "metadata": {
    "deletable": false,
    "editable": false,
    "nbgrader": {
     "checksum": "e1e41dbf14c605bf91cdc78f70eada99",
     "grade": false,
     "grade_id": "cell-06ed6044f8938a45",
     "locked": true,
     "schema_version": 1,
     "solution": false
    }
   },
   "source": [
    "#### g) [0.5 points] Make a graph with the Herfindahl index on the horizontal axis and the equilibrium price on the vertical axis. This is straightforward for $(H,P)$ after the merger as both values are in the dataframe. Add in another color, the pre-merger combination `(H0,P0)` that we calculated above."
   ]
  },
  {
   "cell_type": "code",
   "execution_count": 115,
   "metadata": {
    "deletable": false,
    "nbgrader": {
     "checksum": "51cfaacbaf533e85d9794bc74712afd5",
     "grade": true,
     "grade_id": "cell-d647464d04870b73",
     "locked": false,
     "points": 0.5,
     "schema_version": 1,
     "solution": true
    }
   },
   "outputs": [
    {
     "data": {
      "text/plain": [
       "Text(0.5,0,'H')"
      ]
     },
     "execution_count": 115,
     "metadata": {},
     "output_type": "execute_result"
    },
    {
     "data": {
      "image/png": "[encoded data removed]",
      "text/plain": [
       "<matplotlib.figure.Figure at 0x27bace65828>"
      ]
     },
     "metadata": {},
     "output_type": "display_data"
    }
   ],
   "source": [
    "plt.figure(1)\n",
    "plt.title('')\n",
    "plt.xlabel('H')"
   ]
  },
  {
   "cell_type": "markdown",
   "metadata": {
    "deletable": false,
    "editable": false,
    "nbgrader": {
     "checksum": "11b6609131b1c25886f2c6cafe0f7a59",
     "grade": false,
     "grade_id": "cell-5c5e5776a7c135a2",
     "locked": true,
     "schema_version": 1,
     "solution": false
    }
   },
   "source": [
    "#### h) [0.5 points] Use the graph under g) to discuss the relation between the Herfindahl index and the equilibrium price. To illustrate, some people think that lower values of the Herfindahl index are associated with more competitive outcome. Would you agree with this?"
   ]
  },
  {
   "cell_type": "markdown",
   "metadata": {
    "collapsed": true,
    "deletable": false,
    "nbgrader": {
     "checksum": "3d396887dde3b00420c623b9f4ea8ed2",
     "grade": true,
     "grade_id": "cell-cbd89d483b23a953",
     "locked": false,
     "points": 0.5,
     "schema_version": 1,
     "solution": true
    }
   },
   "source": [
    "The Herfindahl index consists of the sum of the quadrants of the market penalties.\n",
    "In case there are four suppliers, who each have a market penalty of 25%, the Herfindahl index would be 0.25^^2 + 0.252 + 0.25^2 + 0.25^2 = 0.25. \n",
    "However, when the distribution of the market penalties of the four suppliers changes to, let's say, 75%, 15%, 5% and 5%, the Herfindahl index would be 0.75^2 + 0.15^2 + 0.05^2 + 0.05^2 = 0.59.\n",
    "\n",
    "So, the more there is a concetration of the total turnover by one supplier, the higher the Herfindahl index becomes. I would agree with the statement that was made."
   ]
  },
  {
   "cell_type": "markdown",
   "metadata": {},
   "source": [
    "## Github\n",
    "\n",
    "After you have finished, we need to upload this notebook on github. Make sure that you upload the file on the github page of each collaborator."
   ]
  },
  {
   "cell_type": "markdown",
   "metadata": {},
   "source": [
    "Instructions on how to upload this on github can be found [on this page](http://janboone.github.io/programming-for-economists/github.html). This page has two screencasts: one shows how to drag the notebook onto your github page, the other shows how you can use the command line to upload your notebook.\n"
   ]
  },
  {
   "cell_type": "markdown",
   "metadata": {},
   "source": [
    "Remember to update the README file in your repository to include a link to this notebook on github.\n",
    "\n",
    "\n",
    "The links that you should post start with “github.com/” and are NOT of the form “http://localhost”. Make sure you test your links after uploading."
   ]
  },
  {
   "cell_type": "code",
   "execution_count": null,
   "metadata": {
    "collapsed": true
   },
   "outputs": [],
   "source": []
  }
 ],
 "metadata": {
  "anaconda-cloud": {},
  "kernelspec": {
   "display_name": "Python 3",
   "language": "python",
   "name": "python3"
  },
  "language_info": {
   "codemirror_mode": {
    "name": "ipython",
    "version": 3
   },
   "file_extension": ".py",
   "mimetype": "text/x-python",
   "name": "python",
   "nbconvert_exporter": "python",
   "pygments_lexer": "ipython3",
   "version": "3.6.4"
  }
 },
 "nbformat": 4,
 "nbformat_minor": 1
}
