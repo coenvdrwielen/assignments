{
 "cells": [
  {
   "cell_type": "markdown",
   "metadata": {},
   "source": [
    "# Exam R\n",
    "Mark Klik & Misja Mikkers\n",
    "\n",
    "# Introduction\n",
    "\n",
    "The exam consists of 2 parts. In the first part, you have to run a regression, test if the assumptions of a linear regression model are met, and make 2 graphs.\n",
    "\n",
    "In the second part of the exam, you will have to make a map of Catholic and Protestant schools in the Netherlands.\n",
    "\n",
    "\n",
    "# Packages\n"
   ]
  },
  {
   "cell_type": "code",
   "execution_count": 1,
   "metadata": {
    "scrolled": true
   },
   "outputs": [
    {
     "name": "stderr",
     "output_type": "stream",
     "text": [
      "-- Attaching packages --------------------------------------- tidyverse 1.2.1 --\n",
      "v ggplot2 3.0.0     v purrr   0.2.4\n",
      "v tibble  1.4.2     v dplyr   0.7.4\n",
      "v tidyr   0.7.2     v stringr 1.3.1\n",
      "v readr   1.1.1     v forcats 0.3.0\n",
      "Warning message:\n",
      "\"package 'ggplot2' was built under R version 3.4.4\"Warning message:\n",
      "\"package 'tibble' was built under R version 3.4.4\"Warning message:\n",
      "\"package 'readr' was built under R version 3.4.4\"Warning message:\n",
      "\"package 'stringr' was built under R version 3.4.4\"Warning message:\n",
      "\"package 'forcats' was built under R version 3.4.4\"-- Conflicts ------------------------------------------ tidyverse_conflicts() --\n",
      "x dplyr::filter() masks stats::filter()\n",
      "x dplyr::lag()    masks stats::lag()\n"
     ]
    }
   ],
   "source": [
    "library(tidyverse)\n",
    "library(gvlma)\n",
    "\n"
   ]
  },
  {
   "cell_type": "markdown",
   "metadata": {},
   "source": [
    "# Assignment 1\n",
    "\n",
    "\n",
    "## Data\n",
    "\n",
    "The data are given:\n"
   ]
  },
  {
   "cell_type": "code",
   "execution_count": 4,
   "metadata": {},
   "outputs": [
    {
     "data": {
      "text/html": [
       "<table>\n",
       "<thead><tr><th scope=col>V1</th><th scope=col>epsilon</th><th scope=col>response</th><th scope=col>group</th></tr></thead>\n",
       "<tbody>\n",
       "\t<tr><td>3.588198  </td><td>-3.3733866</td><td> -7.549782</td><td>1         </td></tr>\n",
       "\t<tr><td>8.094746  </td><td> 1.6755741</td><td>-11.513918</td><td>2         </td></tr>\n",
       "\t<tr><td>4.680792  </td><td> 0.3067462</td><td> -6.054838</td><td>1         </td></tr>\n",
       "\t<tr><td>8.947157  </td><td>-2.2762739</td><td>-17.170587</td><td>2         </td></tr>\n",
       "\t<tr><td>9.464206  </td><td> 2.5076298</td><td>-13.420781</td><td>2         </td></tr>\n",
       "\t<tr><td>1.410008  </td><td> 0.8529284</td><td>  1.032911</td><td>1         </td></tr>\n",
       "</tbody>\n",
       "</table>\n"
      ],
      "text/latex": [
       "\\begin{tabular}{r|llll}\n",
       " V1 & epsilon & response & group\\\\\n",
       "\\hline\n",
       "\t 3.588198   & -3.3733866 &  -7.549782 & 1         \\\\\n",
       "\t 8.094746   &  1.6755741 & -11.513918 & 2         \\\\\n",
       "\t 4.680792   &  0.3067462 &  -6.054838 & 1         \\\\\n",
       "\t 8.947157   & -2.2762739 & -17.170587 & 2         \\\\\n",
       "\t 9.464206   &  2.5076298 & -13.420781 & 2         \\\\\n",
       "\t 1.410008   &  0.8529284 &   1.032911 & 1         \\\\\n",
       "\\end{tabular}\n"
      ],
      "text/markdown": [
       "\n",
       "V1 | epsilon | response | group | \n",
       "|---|---|---|---|---|---|\n",
       "| 3.588198   | -3.3733866 |  -7.549782 | 1          | \n",
       "| 8.094746   |  1.6755741 | -11.513918 | 2          | \n",
       "| 4.680792   |  0.3067462 |  -6.054838 | 1          | \n",
       "| 8.947157   | -2.2762739 | -17.170587 | 2          | \n",
       "| 9.464206   |  2.5076298 | -13.420781 | 2          | \n",
       "| 1.410008   |  0.8529284 |   1.032911 | 1          | \n",
       "\n",
       "\n"
      ],
      "text/plain": [
       "  V1       epsilon    response   group\n",
       "1 3.588198 -3.3733866  -7.549782 1    \n",
       "2 8.094746  1.6755741 -11.513918 2    \n",
       "3 4.680792  0.3067462  -6.054838 1    \n",
       "4 8.947157 -2.2762739 -17.170587 2    \n",
       "5 9.464206  2.5076298 -13.420781 2    \n",
       "6 1.410008  0.8529284   1.032911 1    "
      ]
     },
     "metadata": {},
     "output_type": "display_data"
    }
   ],
   "source": [
    "set.seed(123)\n",
    "df1 <- as.data.frame(matrix(runif(1*50, min = 1, max = 10), ncol = 1)) %>%\n",
    "    mutate(epsilon = rnorm(50, mean = 0, sd = 2)) %>%\n",
    "     mutate(response = 3 - 2* V1  + epsilon) %>%\n",
    "    mutate(group = ifelse(V1 <= 5, 1,2))\n",
    "\n",
    "head(df1)"
   ]
  },
  {
   "cell_type": "markdown",
   "metadata": {},
   "source": [
    "## Asignment 1a\n",
    "\n",
    "The first assigment is to make boxplot using ggplot with group on the x-axis and V1 on the y-axis."
   ]
  },
  {
   "cell_type": "code",
   "execution_count": 8,
   "metadata": {},
   "outputs": [
    {
     "data": {},
     "metadata": {},
     "output_type": "display_data"
    },
    {
     "data": {
      "image/png": "[encoded data removed]",
      "text/plain": [
       "plot without title"
      ]
     },
     "metadata": {},
     "output_type": "display_data"
    }
   ],
   "source": [
    "ggplot(data = df1, aes(x=group, y=V1, group = group)) + geom_boxplot()\n",
    "\n",
    "\n"
   ]
  },
  {
   "cell_type": "markdown",
   "metadata": {},
   "source": [
    "## Assignment 1b\n",
    "\n",
    "Run a regression with response variable as a function of V1.\n",
    "Show the summary statistics of the regression.\n"
   ]
  },
  {
   "cell_type": "code",
   "execution_count": 9,
   "metadata": {},
   "outputs": [
    {
     "data": {
      "text/plain": [
       "\n",
       "Call:\n",
       "lm(formula = response ~ V1, data = df1)\n",
       "\n",
       "Residuals:\n",
       "    Min      1Q  Median      3Q     Max \n",
       "-4.5116 -1.1157 -0.1313  1.0985  4.3723 \n",
       "\n",
       "Coefficients:\n",
       "            Estimate Std. Error t value Pr(>|t|)    \n",
       "(Intercept)   2.6305     0.6347   4.145 0.000138 ***\n",
       "V1           -1.9152     0.1014 -18.880  < 2e-16 ***\n",
       "---\n",
       "Signif. codes:  0 '***' 0.001 '**' 0.01 '*' 0.05 '.' 0.1 ' ' 1\n",
       "\n",
       "Residual standard error: 1.881 on 48 degrees of freedom\n",
       "Multiple R-squared:  0.8813,\tAdjusted R-squared:  0.8788 \n",
       "F-statistic: 356.4 on 1 and 48 DF,  p-value: < 2.2e-16\n"
      ]
     },
     "metadata": {},
     "output_type": "display_data"
    }
   ],
   "source": [
    "reg1 <- lm(response ~ V1, data = df1)\n",
    "summary (reg1)"
   ]
  },
  {
   "cell_type": "markdown",
   "metadata": {},
   "source": [
    "check if the assumptions of linear regression are met with the `gvlma()` function."
   ]
  },
  {
   "cell_type": "code",
   "execution_count": 10,
   "metadata": {},
   "outputs": [
    {
     "data": {
      "text/plain": [
       "\n",
       "Call:\n",
       "lm(formula = response ~ V1, data = df1)\n",
       "\n",
       "Coefficients:\n",
       "(Intercept)           V1  \n",
       "      2.630       -1.915  \n",
       "\n",
       "\n",
       "ASSESSMENT OF THE LINEAR MODEL ASSUMPTIONS\n",
       "USING THE GLOBAL TEST ON 4 DEGREES-OF-FREEDOM:\n",
       "Level of Significance =  0.05 \n",
       "\n",
       "Call:\n",
       " gvlma(x = reg1) \n",
       "\n",
       "                      Value p-value                Decision\n",
       "Global Stat        0.654319  0.9568 Assumptions acceptable.\n",
       "Skewness           0.002398  0.9609 Assumptions acceptable.\n",
       "Kurtosis           0.007200  0.9324 Assumptions acceptable.\n",
       "Link Function      0.005852  0.9390 Assumptions acceptable.\n",
       "Heteroscedasticity 0.638869  0.4241 Assumptions acceptable."
      ]
     },
     "metadata": {},
     "output_type": "display_data"
    }
   ],
   "source": [
    "gvlma(reg1)"
   ]
  },
  {
   "cell_type": "markdown",
   "metadata": {},
   "source": [
    "## Assignment 1c\n",
    "\n",
    "Make a scatterplot with: \n",
    "* V1 on the x-axis and the response on the y-axis\n",
    "* Include the regression line in red with confidence interval \n",
    "* In a classic theme\n",
    "* The x-axis should be labeled \"Predictor\", the y-axis should be labeled (\"Response\")\n",
    "\n"
   ]
  },
  {
   "cell_type": "code",
   "execution_count": 15,
   "metadata": {},
   "outputs": [
    {
     "data": {},
     "metadata": {},
     "output_type": "display_data"
    },
    {
     "data": {
      "image/png": "[encoded data removed]",
      "text/plain": [
       "plot without title"
      ]
     },
     "metadata": {},
     "output_type": "display_data"
    }
   ],
   "source": [
    "ggplot(data = df1, aes(x = V1, y = response, theme = 'classic')) + geom_point() + geom_smooth( method = lm, color = 'red') + theme_classic() + xlab(\"Predictor\") + ylab(\"Response\")\n"
   ]
  },
  {
   "cell_type": "markdown",
   "metadata": {},
   "source": [
    "# Assigment 2\n",
    "\n",
    "# Packages"
   ]
  },
  {
   "cell_type": "code",
   "execution_count": null,
   "metadata": {},
   "outputs": [],
   "source": []
  },
  {
   "cell_type": "code",
   "execution_count": 21,
   "metadata": {
    "scrolled": true
   },
   "outputs": [
    {
     "ename": "ERROR",
     "evalue": "Error in library(thematicmaps): there is no package called 'thematicmaps'\n",
     "output_type": "error",
     "traceback": [
      "Error in library(thematicmaps): there is no package called 'thematicmaps'\nTraceback:\n",
      "1. library(thematicmaps)",
      "2. stop(txt, domain = NA)"
     ]
    }
   ],
   "source": [
    "library(thematicmaps)\n",
    "library(tidyverse)"
   ]
  },
  {
   "cell_type": "markdown",
   "metadata": {},
   "source": [
    "## Assignment 2a\n",
    "\n",
    "First you have to read in the file \"nld_municipal_map.csv\".\n",
    "Hint: Look at the notebook of week 6 about maps."
   ]
  },
  {
   "cell_type": "code",
   "execution_count": 46,
   "metadata": {},
   "outputs": [
    {
     "name": "stderr",
     "output_type": "stream",
     "text": [
      "Warning message in file(file, \"rt\"):\n",
      "\"cannot open file '../Sourcedata/nld_municipal_map.csv': No such file or directory\""
     ]
    },
    {
     "ename": "ERROR",
     "evalue": "Error in file(file, \"rt\"): cannot open the connection\n",
     "output_type": "error",
     "traceback": [
      "Error in file(file, \"rt\"): cannot open the connection\nTraceback:\n",
      "1. read.csv2(\"../Sourcedata/nld_municipal_map.csv\", dec = \".\")",
      "2. read.table(file = file, header = header, sep = sep, quote = quote, \n .     dec = dec, fill = fill, comment.char = comment.char, ...)",
      "3. file(file, \"rt\")"
     ]
    }
   ],
   "source": [
    "map_municipal <- read.csv2(\"../Sourcedata/nld_municipal_map.csv\",  dec = \".\")\n",
    "head(map_municipal)"
   ]
  },
  {
   "cell_type": "markdown",
   "metadata": {},
   "source": [
    "## Assignment 2b\n",
    "\n",
    "Now you can make an empty map of the Netherlands."
   ]
  },
  {
   "cell_type": "code",
   "execution_count": 24,
   "metadata": {},
   "outputs": [
    {
     "ename": "ERROR",
     "evalue": "Error in AddMapLayer(MapPlot(), map_municipal): could not find function \"AddMapLayer\"\n",
     "output_type": "error",
     "traceback": [
      "Error in AddMapLayer(MapPlot(), map_municipal): could not find function \"AddMapLayer\"\nTraceback:\n"
     ]
    }
   ],
   "source": [
    "AddMapLayer(MapPlot(), map_municipal)\n"
   ]
  },
  {
   "cell_type": "markdown",
   "metadata": {},
   "source": [
    "## Assignment 2c\n",
    "\n",
    "Read in the pc4 locations (nld_pc4_locations.csv).\n",
    "\n",
    "Hint: Don't forget the X and Y should be numeric variables!"
   ]
  },
  {
   "cell_type": "code",
   "execution_count": 30,
   "metadata": {},
   "outputs": [
    {
     "name": "stderr",
     "output_type": "stream",
     "text": [
      "Warning message in file(file, \"rt\"):\n",
      "\"cannot open file '../Sourcedata/nld_pc4_locations.csv': No such file or directory\""
     ]
    },
    {
     "ename": "ERROR",
     "evalue": "Error in file(file, \"rt\"): cannot open the connection\n",
     "output_type": "error",
     "traceback": [
      "Error in file(file, \"rt\"): cannot open the connection\nTraceback:\n",
      "1. read.csv2(\"../Sourcedata/nld_pc4_locations.csv\") %>% mutate(X = as.numeric(as.character(X)))",
      "2. eval(lhs, parent, parent)",
      "3. eval(lhs, parent, parent)",
      "4. read.csv2(\"../Sourcedata/nld_pc4_locations.csv\")",
      "5. read.table(file = file, header = header, sep = sep, quote = quote, \n .     dec = dec, fill = fill, comment.char = comment.char, ...)",
      "6. file(file, \"rt\")"
     ]
    }
   ],
   "source": [
    "pc4_locations <- read.csv2(\"../Sourcedata/nld_pc4_locations.csv\") %>%\n",
    "mutate (X = as.numeric(as.character(X)))\n",
    "mutate (Y = as.numeric(as.character(Y)))\n",
    "\n",
    "str(pc4_locations)"
   ]
  },
  {
   "cell_type": "markdown",
   "metadata": {},
   "source": [
    "## Assignment 2d\n",
    "\n",
    "### 2di\n",
    "\n",
    "Read in the school data\n"
   ]
  },
  {
   "cell_type": "code",
   "execution_count": 31,
   "metadata": {},
   "outputs": [
    {
     "name": "stderr",
     "output_type": "stream",
     "text": [
      "Warning message in file(file, \"rt\"):\n",
      "\"cannot open file '../Sourcedata/schools.csv': No such file or directory\""
     ]
    },
    {
     "ename": "ERROR",
     "evalue": "Error in file(file, \"rt\"): cannot open the connection\n",
     "output_type": "error",
     "traceback": [
      "Error in file(file, \"rt\"): cannot open the connection\nTraceback:\n",
      "1. read.csv(\"../Sourcedata/schools.csv\")",
      "2. read.table(file = file, header = header, sep = sep, quote = quote, \n .     dec = dec, fill = fill, comment.char = comment.char, ...)",
      "3. file(file, \"rt\")"
     ]
    }
   ],
   "source": [
    "schools <- read.csv(\"../Sourcedata/schools.csv\")\n",
    "head(schools)\n",
    " "
   ]
  },
  {
   "cell_type": "markdown",
   "metadata": {},
   "source": [
    "### 2dii\n",
    "\n",
    "First, create a new dataframe schools1, which is equal to schools.\n",
    "\n",
    "As you see POSTCODE has a structure of (1234 AB). You should create a new variable PC4 that is equal to the first 4 numbers in POSTCODE\n",
    "\n",
    "Hint: Use the function `substr()`\n",
    "\n",
    "Then select the variables PC4 and DENOMINATIE"
   ]
  },
  {
   "cell_type": "code",
   "execution_count": 34,
   "metadata": {},
   "outputs": [
    {
     "data": {
      "text/html": [
       "<table>\n",
       "<thead><tr><th scope=col>PC4</th><th scope=col>DENOMINATIE</th></tr></thead>\n",
       "<tbody>\n",
       "\t<tr><td>  NA    </td><td>Openbaar</td></tr>\n",
       "\t<tr><td>9406    </td><td>Openbaar</td></tr>\n",
       "\t<tr><td>9401    </td><td>Openbaar</td></tr>\n",
       "\t<tr><td>9402    </td><td>Openbaar</td></tr>\n",
       "\t<tr><td>9331    </td><td>Openbaar</td></tr>\n",
       "\t<tr><td>9411    </td><td>Openbaar</td></tr>\n",
       "</tbody>\n",
       "</table>\n"
      ],
      "text/latex": [
       "\\begin{tabular}{r|ll}\n",
       " PC4 & DENOMINATIE\\\\\n",
       "\\hline\n",
       "\t   NA     & Openbaar\\\\\n",
       "\t 9406     & Openbaar\\\\\n",
       "\t 9401     & Openbaar\\\\\n",
       "\t 9402     & Openbaar\\\\\n",
       "\t 9331     & Openbaar\\\\\n",
       "\t 9411     & Openbaar\\\\\n",
       "\\end{tabular}\n"
      ],
      "text/markdown": [
       "\n",
       "PC4 | DENOMINATIE | \n",
       "|---|---|---|---|---|---|\n",
       "|   NA     | Openbaar | \n",
       "| 9406     | Openbaar | \n",
       "| 9401     | Openbaar | \n",
       "| 9402     | Openbaar | \n",
       "| 9331     | Openbaar | \n",
       "| 9411     | Openbaar | \n",
       "\n",
       "\n"
      ],
      "text/plain": [
       "  PC4  DENOMINATIE\n",
       "1   NA Openbaar   \n",
       "2 9406 Openbaar   \n",
       "3 9401 Openbaar   \n",
       "4 9402 Openbaar   \n",
       "5 9331 Openbaar   \n",
       "6 9411 Openbaar   "
      ]
     },
     "metadata": {},
     "output_type": "display_data"
    }
   ],
   "source": [
    "schools1 <- schools %>%\n",
    "mutate(PC4 = as.integer(substr(POSTCODE, 1,4))) %>%\n",
    "select(PC4, DENOMINATIE)\n",
    "\n",
    "head(schools1)"
   ]
  },
  {
   "cell_type": "markdown",
   "metadata": {},
   "source": [
    "### 2diii\n",
    "\n",
    "Create the dataframe school_loc as a join from pc4_locations and school1 that combines the columns from both data frames, but only keeps rows where the value in the pc4_locations column matches in both data frames.\n",
    "And then select the observations with DENOMINATIE is equal to \"Rooms-Katholiek\" or \"Protestants-Christelijk\""
   ]
  },
  {
   "cell_type": "code",
   "execution_count": 41,
   "metadata": {},
   "outputs": [
    {
     "data": {
      "text/html": [
       "<table>\n",
       "<thead><tr><th scope=col>PC4</th><th scope=col>X</th><th scope=col>Y</th><th scope=col>DENOMINATIE</th></tr></thead>\n",
       "<tbody>\n",
       "\t<tr><td>1065                   </td><td>116701.2               </td><td>485645.8               </td><td>Protestants-Christelijk</td></tr>\n",
       "\t<tr><td>1071                   </td><td>120223.0               </td><td>485571.3               </td><td>Rooms-Katholiek        </td></tr>\n",
       "\t<tr><td>1077                   </td><td>120152.7               </td><td>484262.8               </td><td>Rooms-Katholiek        </td></tr>\n",
       "\t<tr><td>1077                   </td><td>120152.7               </td><td>484262.8               </td><td>Protestants-Christelijk</td></tr>\n",
       "\t<tr><td>1081                   </td><td>118277.6               </td><td>482449.5               </td><td>Protestants-Christelijk</td></tr>\n",
       "\t<tr><td>1132                   </td><td>132947.2               </td><td>501873.0               </td><td>Rooms-Katholiek        </td></tr>\n",
       "</tbody>\n",
       "</table>\n"
      ],
      "text/latex": [
       "\\begin{tabular}{r|llll}\n",
       " PC4 & X & Y & DENOMINATIE\\\\\n",
       "\\hline\n",
       "\t 1065                    & 116701.2                & 485645.8                & Protestants-Christelijk\\\\\n",
       "\t 1071                    & 120223.0                & 485571.3                & Rooms-Katholiek        \\\\\n",
       "\t 1077                    & 120152.7                & 484262.8                & Rooms-Katholiek        \\\\\n",
       "\t 1077                    & 120152.7                & 484262.8                & Protestants-Christelijk\\\\\n",
       "\t 1081                    & 118277.6                & 482449.5                & Protestants-Christelijk\\\\\n",
       "\t 1132                    & 132947.2                & 501873.0                & Rooms-Katholiek        \\\\\n",
       "\\end{tabular}\n"
      ],
      "text/markdown": [
       "\n",
       "PC4 | X | Y | DENOMINATIE | \n",
       "|---|---|---|---|---|---|\n",
       "| 1065                    | 116701.2                | 485645.8                | Protestants-Christelijk | \n",
       "| 1071                    | 120223.0                | 485571.3                | Rooms-Katholiek         | \n",
       "| 1077                    | 120152.7                | 484262.8                | Rooms-Katholiek         | \n",
       "| 1077                    | 120152.7                | 484262.8                | Protestants-Christelijk | \n",
       "| 1081                    | 118277.6                | 482449.5                | Protestants-Christelijk | \n",
       "| 1132                    | 132947.2                | 501873.0                | Rooms-Katholiek         | \n",
       "\n",
       "\n"
      ],
      "text/plain": [
       "  PC4  X        Y        DENOMINATIE            \n",
       "1 1065 116701.2 485645.8 Protestants-Christelijk\n",
       "2 1071 120223.0 485571.3 Rooms-Katholiek        \n",
       "3 1077 120152.7 484262.8 Rooms-Katholiek        \n",
       "4 1077 120152.7 484262.8 Protestants-Christelijk\n",
       "5 1081 118277.6 482449.5 Protestants-Christelijk\n",
       "6 1132 132947.2 501873.0 Rooms-Katholiek        "
      ]
     },
     "metadata": {},
     "output_type": "display_data"
    }
   ],
   "source": [
    "school_loc <- inner_join(pc4_locations, schools1, by='PC4') %>%\n",
    "filter(DENOMINATIE == \"Rooms-Katholiek\" | DENOMINATIE == \"Protestants-Christelijk\")\n",
    "\n",
    "head(school_loc)"
   ]
  },
  {
   "cell_type": "markdown",
   "metadata": {},
   "source": [
    "## Assignment 2e\n",
    "\n",
    "Create a map of Catholic and Protestant schools in the Netherlands\n"
   ]
  },
  {
   "cell_type": "code",
   "execution_count": 44,
   "metadata": {},
   "outputs": [
    {
     "ename": "ERROR",
     "evalue": "Error in AddMapLayer(MapPlot(), map_municipal): could not find function \"AddMapLayer\"\n",
     "output_type": "error",
     "traceback": [
      "Error in AddMapLayer(MapPlot(), map_municipal): could not find function \"AddMapLayer\"\nTraceback:\n",
      "1. AddMapLayer(MapPlot(), map_municipal) %>% AddPointsLayer(school_loc, \n .     columnNameColor = \"DENOMINATIE\")",
      "2. eval(lhs, parent, parent)",
      "3. eval(lhs, parent, parent)"
     ]
    }
   ],
   "source": [
    "AddMapLayer(MapPlot(), map_municipal) %>%\n",
    "AddPointsLayer(school_loc, columnNameColor = \"DENOMINATIE\")\n",
    "\n"
   ]
  },
  {
   "cell_type": "markdown",
   "metadata": {},
   "source": [
    "End of notebook"
   ]
  },
  {
   "cell_type": "code",
   "execution_count": null,
   "metadata": {},
   "outputs": [],
   "source": []
  }
 ],
 "metadata": {
  "anaconda-cloud": {},
  "kernelspec": {
   "display_name": "R",
   "language": "R",
   "name": "ir"
  },
  "language_info": {
   "codemirror_mode": "r",
   "file_extension": ".r",
   "mimetype": "text/x-r-source",
   "name": "R",
   "pygments_lexer": "r",
   "version": "3.4.3"
  }
 },
 "nbformat": 4,
 "nbformat_minor": 1
}
